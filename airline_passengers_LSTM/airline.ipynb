{
 "cells": [
  {
   "cell_type": "code",
   "execution_count": 41,
   "metadata": {},
   "outputs": [],
   "source": [
    "#importing libraries\n",
    "import numpy as np\n",
    "import pandas as pd\n",
    "import matplotlib.pyplot as plt\n",
    "%matplotlib inline\n",
    "import tensorflow as tf\n",
    "from keras.layers import Dense , Dropout , LSTM \n",
    "from sklearn.preprocessing import MinMaxScaler\n",
    "from sklearn.metrics import mean_squared_error"
   ]
  },
  {
   "cell_type": "code",
   "execution_count": 42,
   "metadata": {},
   "outputs": [
    {
     "data": {
      "text/html": [
       "<div>\n",
       "<style scoped>\n",
       "    .dataframe tbody tr th:only-of-type {\n",
       "        vertical-align: middle;\n",
       "    }\n",
       "\n",
       "    .dataframe tbody tr th {\n",
       "        vertical-align: top;\n",
       "    }\n",
       "\n",
       "    .dataframe thead th {\n",
       "        text-align: right;\n",
       "    }\n",
       "</style>\n",
       "<table border=\"1\" class=\"dataframe\">\n",
       "  <thead>\n",
       "    <tr style=\"text-align: right;\">\n",
       "      <th></th>\n",
       "      <th>time</th>\n",
       "      <th>passengers</th>\n",
       "    </tr>\n",
       "  </thead>\n",
       "  <tbody>\n",
       "    <tr>\n",
       "      <th>0</th>\n",
       "      <td>1949-01</td>\n",
       "      <td>112</td>\n",
       "    </tr>\n",
       "    <tr>\n",
       "      <th>1</th>\n",
       "      <td>1949-02</td>\n",
       "      <td>118</td>\n",
       "    </tr>\n",
       "    <tr>\n",
       "      <th>2</th>\n",
       "      <td>1949-03</td>\n",
       "      <td>132</td>\n",
       "    </tr>\n",
       "    <tr>\n",
       "      <th>3</th>\n",
       "      <td>1949-04</td>\n",
       "      <td>129</td>\n",
       "    </tr>\n",
       "    <tr>\n",
       "      <th>4</th>\n",
       "      <td>1949-05</td>\n",
       "      <td>121</td>\n",
       "    </tr>\n",
       "    <tr>\n",
       "      <th>...</th>\n",
       "      <td>...</td>\n",
       "      <td>...</td>\n",
       "    </tr>\n",
       "    <tr>\n",
       "      <th>139</th>\n",
       "      <td>1960-08</td>\n",
       "      <td>606</td>\n",
       "    </tr>\n",
       "    <tr>\n",
       "      <th>140</th>\n",
       "      <td>1960-09</td>\n",
       "      <td>508</td>\n",
       "    </tr>\n",
       "    <tr>\n",
       "      <th>141</th>\n",
       "      <td>1960-10</td>\n",
       "      <td>461</td>\n",
       "    </tr>\n",
       "    <tr>\n",
       "      <th>142</th>\n",
       "      <td>1960-11</td>\n",
       "      <td>390</td>\n",
       "    </tr>\n",
       "    <tr>\n",
       "      <th>143</th>\n",
       "      <td>1960-12</td>\n",
       "      <td>432</td>\n",
       "    </tr>\n",
       "  </tbody>\n",
       "</table>\n",
       "<p>144 rows × 2 columns</p>\n",
       "</div>"
      ],
      "text/plain": [
       "        time  passengers\n",
       "0    1949-01         112\n",
       "1    1949-02         118\n",
       "2    1949-03         132\n",
       "3    1949-04         129\n",
       "4    1949-05         121\n",
       "..       ...         ...\n",
       "139  1960-08         606\n",
       "140  1960-09         508\n",
       "141  1960-10         461\n",
       "142  1960-11         390\n",
       "143  1960-12         432\n",
       "\n",
       "[144 rows x 2 columns]"
      ]
     },
     "execution_count": 42,
     "metadata": {},
     "output_type": "execute_result"
    }
   ],
   "source": [
    "#reading the dataset\n",
    "df = pd.read_csv(\"international-airline-passengers.csv\")\n",
    "df"
   ]
  },
  {
   "cell_type": "code",
   "execution_count": 43,
   "metadata": {},
   "outputs": [
    {
     "data": {
      "text/plain": [
       "[<matplotlib.lines.Line2D at 0x16d1bb30130>]"
      ]
     },
     "execution_count": 43,
     "metadata": {},
     "output_type": "execute_result"
    },
    {
     "data": {
      "image/png": "[encoded data removed]",
      "text/plain": [
       "<Figure size 432x288 with 1 Axes>"
      ]
     },
     "metadata": {
      "needs_background": "light"
     },
     "output_type": "display_data"
    }
   ],
   "source": [
    "#plotting the dataset\n",
    "plt.plot(df.passengers)"
   ]
  },
  {
   "cell_type": "code",
   "execution_count": 44,
   "metadata": {},
   "outputs": [
    {
     "data": {
      "text/plain": [
       "(144, 1)"
      ]
     },
     "execution_count": 44,
     "metadata": {},
     "output_type": "execute_result"
    }
   ],
   "source": [
    "#convert data to np array\n",
    "data = np.asanyarray(df[['passengers']])\n",
    "data.shape"
   ]
  },
  {
   "cell_type": "code",
   "execution_count": 45,
   "metadata": {},
   "outputs": [],
   "source": [
    "#normalizing the dataset\n",
    "scaler = MinMaxScaler(feature_range=(0,1))\n",
    "data = scaler.fit_transform(data) #Place the data in the range (0,1)"
   ]
  },
  {
   "cell_type": "markdown",
   "metadata": {},
   "source": [
    "### در اینجا دیتا باید پیوسته باشد و نباید به صورت رندوم تست و تِرین را جدا کنیم زیرا ترتیب در دیتا مهم است"
   ]
  },
  {
   "cell_type": "code",
   "execution_count": 46,
   "metadata": {},
   "outputs": [
    {
     "name": "stdout",
     "output_type": "stream",
     "text": [
      "train's shape->(86, 1)\n",
      "test's shape->(58, 1)\n"
     ]
    }
   ],
   "source": [
    "#train and test data\n",
    "train_size = int(0.60*len(data)) #Placing 60% of the data for training\n",
    "test_size = len(data) - train_size #Placing 40% of the data for testing\n",
    "train,test = data[0:train_size,:] , data[train_size:len(data),:]\n",
    "print(f\"train's shape->{train.shape}\\ntest's shape->{test.shape}\")"
   ]
  },
  {
   "cell_type": "markdown",
   "metadata": {},
   "source": [
    "#### اگر تایم استِپ ما 5 باشد باید دیتا را به نحوی تغییر دهیم که هر 5 سطر پشت هم یک دیتا در نظر گرفته شوند\n",
    "#### یعنی از 0 تا 4 یک ویژگی و از 1 تا 5 یک ویژگی و ... به همین ترتیب الی آخر"
   ]
  },
  {
   "cell_type": "code",
   "execution_count": 47,
   "metadata": {},
   "outputs": [],
   "source": [
    "def create_data(data,time_step=1):\n",
    "    X , Y = [],[]\n",
    "    for i in range(len(data)-time_step-1):\n",
    "        a=data[i:(i+time_step),0]\n",
    "        X.append(a)\n",
    "        Y.append(data[i+time_step,0])\n",
    "    return np.array(X) , np.array(Y)"
   ]
  },
  {
   "cell_type": "markdown",
   "metadata": {},
   "source": [
    "## توضیح تابع بالا\n",
    "- یک حلقه ساختیم که، چون به اندازه ی تایم استپ در هر ویژگی عضو \n",
    "داریم پس حلقه خانه های آخر را نمی بیند پس حلقه در بازه ی خانه ی \n",
    "آخر منهای تایم استپ خواهد بود\n",
    "- ویژگی هایمان را از دیتا جدا میکنیم، ویژگی اول، از 0 تا 4 و ویژگی دوم از 1 تا 5 است\n",
    "- لیبل ما در این دیتا، حاصل یکی بعد از ویژگیهایمان میباشد، یعنی برای ویژگی های اول از 0 تا 4 است، لیبل ما 5 امین خانه خواهد بود"
   ]
  },
  {
   "cell_type": "code",
   "execution_count": 48,
   "metadata": {},
   "outputs": [],
   "source": [
    "Xtrain , Ytrain = create_data(train,time_step=10)\n",
    "Xtest , Ytest = create_data(test,time_step=10)"
   ]
  },
  {
   "cell_type": "code",
   "execution_count": 49,
   "metadata": {},
   "outputs": [
    {
     "name": "stdout",
     "output_type": "stream",
     "text": [
      "Xtrain's shape->(75, 10)\n",
      "train's shape->(86, 1)\n",
      "Ytrain's shape(75,)\n",
      "==============================\n",
      "Xtest's shape->(47, 10)\n",
      "test's shape->(58, 1)\n",
      "Ytest's shape(47,)\n"
     ]
    }
   ],
   "source": [
    "print(f\"Xtrain's shape->{Xtrain.shape}\\ntrain's shape->{train.shape}\\nYtrain's shape{Ytrain.shape}\")\n",
    "print(\"==============================\")\n",
    "print(f\"Xtest's shape->{Xtest.shape}\\ntest's shape->{test.shape}\\nYtest's shape{Ytest.shape}\")\n"
   ]
  },
  {
   "cell_type": "code",
   "execution_count": 50,
   "metadata": {},
   "outputs": [
    {
     "name": "stdout",
     "output_type": "stream",
     "text": [
      "[0.01544402 0.02702703 0.05405405 0.04826255 0.03281853 0.05984556\n",
      " 0.08494208 0.08494208 0.06177606 0.02895753] 0.0 \n",
      " [[0.01544402]\n",
      " [0.02702703]\n",
      " [0.05405405]\n",
      " [0.04826255]\n",
      " [0.03281853]\n",
      " [0.05984556]\n",
      " [0.08494208]\n",
      " [0.08494208]\n",
      " [0.06177606]\n",
      " [0.02895753]\n",
      " [0.        ]]\n"
     ]
    }
   ],
   "source": [
    "print(Xtrain[0],Ytrain[0],\"\\n\",train[:11])"
   ]
  },
  {
   "cell_type": "markdown",
   "metadata": {},
   "source": [
    "### همانطور که میبینید لیبل اول برابر با 11 امین خانه در تِرین است"
   ]
  },
  {
   "cell_type": "code",
   "execution_count": 51,
   "metadata": {},
   "outputs": [
    {
     "name": "stdout",
     "output_type": "stream",
     "text": [
      "Xtrain's shape->(75, 10, 1)\n",
      "Xtest's shape->(47, 10, 1)\n"
     ]
    }
   ],
   "source": [
    "#Reshape input to be(samples,time steps,features)\n",
    "#Reshape the datasets to 3D array\n",
    "Xtrain=Xtrain.reshape((Xtrain.shape[0],Xtrain.shape[1],1))\n",
    "Xtest=Xtest.reshape((Xtest.shape[0],Xtest.shape[1],1))\n",
    "print(f\"Xtrain's shape->{Xtrain.shape}\\nXtest's shape->{Xtest.shape}\")  "
   ]
  },
  {
   "cell_type": "code",
   "execution_count": 52,
   "metadata": {},
   "outputs": [],
   "source": [
    "#Create the model\n",
    "model = tf.keras.Sequential()\n",
    "model.add(LSTM(5,input_shape=(10,1))) #5 neurons\n",
    "model.add(Dense(1)) #A neuron to calculate prediction\n",
    "#Compile the model\n",
    "model.compile(\n",
    "    loss=\"mean_squared_error\",\n",
    "    optimizer=\"adam\")"
   ]
  },
  {
   "cell_type": "code",
   "execution_count": 53,
   "metadata": {},
   "outputs": [
    {
     "name": "stdout",
     "output_type": "stream",
     "text": [
      "Epoch 1/30\n",
      "75/75 [==============================] - 0s 4ms/step - loss: 0.0517\n",
      "Epoch 2/30\n",
      "75/75 [==============================] - 0s 3ms/step - loss: 0.0197\n",
      "Epoch 3/30\n",
      "75/75 [==============================] - 0s 3ms/step - loss: 0.0125\n",
      "Epoch 4/30\n",
      "75/75 [==============================] - 0s 3ms/step - loss: 0.0112\n",
      "Epoch 5/30\n",
      "75/75 [==============================] - 0s 3ms/step - loss: 0.0103\n",
      "Epoch 6/30\n",
      "75/75 [==============================] - 0s 3ms/step - loss: 0.0090\n",
      "Epoch 7/30\n",
      "75/75 [==============================] - 0s 3ms/step - loss: 0.0081\n",
      "Epoch 8/30\n",
      "75/75 [==============================] - 0s 3ms/step - loss: 0.0073\n",
      "Epoch 9/30\n",
      "75/75 [==============================] - 0s 3ms/step - loss: 0.0064\n",
      "Epoch 10/30\n",
      "75/75 [==============================] - 0s 3ms/step - loss: 0.0058\n",
      "Epoch 11/30\n",
      "75/75 [==============================] - 0s 3ms/step - loss: 0.0050\n",
      "Epoch 12/30\n",
      "75/75 [==============================] - 0s 4ms/step - loss: 0.0045\n",
      "Epoch 13/30\n",
      "75/75 [==============================] - 0s 3ms/step - loss: 0.0044\n",
      "Epoch 14/30\n",
      "75/75 [==============================] - 0s 3ms/step - loss: 0.0041\n",
      "Epoch 15/30\n",
      "75/75 [==============================] - 0s 5ms/step - loss: 0.0039\n",
      "Epoch 16/30\n",
      "75/75 [==============================] - 0s 3ms/step - loss: 0.0039\n",
      "Epoch 17/30\n",
      "75/75 [==============================] - 0s 4ms/step - loss: 0.0039\n",
      "Epoch 18/30\n",
      "75/75 [==============================] - 0s 3ms/step - loss: 0.0038\n",
      "Epoch 19/30\n",
      "75/75 [==============================] - 0s 4ms/step - loss: 0.0038\n",
      "Epoch 20/30\n",
      "75/75 [==============================] - 0s 4ms/step - loss: 0.0041\n",
      "Epoch 21/30\n",
      "75/75 [==============================] - 0s 3ms/step - loss: 0.0037\n",
      "Epoch 22/30\n",
      "75/75 [==============================] - 0s 3ms/step - loss: 0.0037\n",
      "Epoch 23/30\n",
      "75/75 [==============================] - 0s 4ms/step - loss: 0.0036\n",
      "Epoch 24/30\n",
      "75/75 [==============================] - 0s 6ms/step - loss: 0.0038\n",
      "Epoch 25/30\n",
      "75/75 [==============================] - 0s 5ms/step - loss: 0.0038\n",
      "Epoch 26/30\n",
      "75/75 [==============================] - 0s 4ms/step - loss: 0.0036\n",
      "Epoch 27/30\n",
      "75/75 [==============================] - 0s 3ms/step - loss: 0.0036\n",
      "Epoch 28/30\n",
      "75/75 [==============================] - 0s 5ms/step - loss: 0.0037\n",
      "Epoch 29/30\n",
      "75/75 [==============================] - 0s 6ms/step - loss: 0.0036\n",
      "Epoch 30/30\n",
      "75/75 [==============================] - 0s 3ms/step - loss: 0.0036\n"
     ]
    }
   ],
   "source": [
    "#Fit the LSTM network\n",
    "model_fit=model.fit(Xtrain,Ytrain,epochs=30,batch_size=1)"
   ]
  },
  {
   "cell_type": "code",
   "execution_count": 54,
   "metadata": {},
   "outputs": [
    {
     "data": {
      "text/plain": [
       "dict_keys(['loss'])"
      ]
     },
     "execution_count": 54,
     "metadata": {},
     "output_type": "execute_result"
    }
   ],
   "source": [
    "hist = model_fit.history\n",
    "hist.keys()"
   ]
  },
  {
   "cell_type": "code",
   "execution_count": 55,
   "metadata": {},
   "outputs": [
    {
     "data": {
      "text/plain": [
       "(0.0, 1.0)"
      ]
     },
     "execution_count": 55,
     "metadata": {},
     "output_type": "execute_result"
    },
    {
     "data": {
      "image/png": "[encoded data removed]",
      "text/plain": [
       "<Figure size 432x288 with 1 Axes>"
      ]
     },
     "metadata": {
      "needs_background": "light"
     },
     "output_type": "display_data"
    }
   ],
   "source": [
    "#validation curve\n",
    "hist = model_fit.history\n",
    "plt.plot(hist[\"loss\"],label=\"loss\")\n",
    "plt.xlabel(\"epochs\")\n",
    "plt.legend(loc=\"best\")\n",
    "plt.ylim((0,1))\n"
   ]
  },
  {
   "cell_type": "code",
   "execution_count": 56,
   "metadata": {},
   "outputs": [],
   "source": [
    "#Predict test and train datasets\n",
    "trainPred = model.predict(Xtrain)\n",
    "testPred = model.predict(Xtest)"
   ]
  },
  {
   "cell_type": "code",
   "execution_count": 57,
   "metadata": {},
   "outputs": [
    {
     "name": "stdout",
     "output_type": "stream",
     "text": [
      "[[0.08545221]\n",
      " [0.07960825]\n",
      " [0.07831584]\n",
      " [0.0747069 ]\n",
      " [0.07484829]]\n",
      "===============\n",
      "[0.         0.02702703 0.02123552 0.04247104 0.07142857]\n"
     ]
    }
   ],
   "source": [
    "print(trainPred[:5])\n",
    "print(\"===============\")\n",
    "print(Ytrain[:5])"
   ]
  },
  {
   "cell_type": "code",
   "execution_count": 59,
   "metadata": {},
   "outputs": [],
   "source": [
    "#Inverse transform of normalizing the data\n",
    "trainPred = scaler.inverse_transform(trainPred)\n",
    "testPred = scaler.inverse_transform(testPred)"
   ]
  },
  {
   "cell_type": "code",
   "execution_count": 61,
   "metadata": {},
   "outputs": [],
   "source": [
    "Ytrain = scaler.inverse_transform([Ytrain])\n",
    "Ytest = scaler.inverse_transform([Ytest])"
   ]
  },
  {
   "cell_type": "code",
   "execution_count": 65,
   "metadata": {},
   "outputs": [],
   "source": [
    "#Calculate root mean squared error\n",
    "from sklearn.metrics import mean_squared_error\n",
    "from math import sqrt\n",
    "trainScore = sqrt(mean_squared_error(trainPred[:,0],Ytrain[0]))\n",
    "testScore = sqrt(mean_squared_error(testPred[:,0],Ytest[0]))"
   ]
  },
  {
   "cell_type": "code",
   "execution_count": 66,
   "metadata": {},
   "outputs": [
    {
     "name": "stdout",
     "output_type": "stream",
     "text": [
      "train score->30.496935504480472\n",
      "============\n",
      "test score->79.39036140384576\n"
     ]
    }
   ],
   "source": [
    "print(\"train score->{}\".format(trainScore))\n",
    "print(\"============\")\n",
    "print(\"test score->{}\".format(testScore))"
   ]
  },
  {
   "cell_type": "code",
   "execution_count": 68,
   "metadata": {},
   "outputs": [],
   "source": [
    "data = scaler.inverse_transform(data)\n"
   ]
  },
  {
   "cell_type": "code",
   "execution_count": 86,
   "metadata": {},
   "outputs": [
    {
     "data": {
      "text/plain": [
       "[<matplotlib.lines.Line2D at 0x16d15e80a00>]"
      ]
     },
     "execution_count": 86,
     "metadata": {},
     "output_type": "execute_result"
    },
    {
     "data": {
      "image/png": "[encoded data removed]",
      "text/plain": [
       "<Figure size 432x288 with 1 Axes>"
      ]
     },
     "metadata": {
      "needs_background": "light"
     },
     "output_type": "display_data"
    }
   ],
   "source": [
    "#plot predict data\n",
    "x_plot = np.arange(len(Xtrain)+11,len(data)-11)\n",
    "plt.plot(data,label=\"data\")\n",
    "plt.plot(trainPred,label=\"train\")\n",
    "plt.plot(x_plot,testPred,label=\"test\")"
   ]
  },
  {
   "cell_type": "code",
   "execution_count": 83,
   "metadata": {},
   "outputs": [
    {
     "data": {
      "text/plain": [
       "(47, 1)"
      ]
     },
     "execution_count": 83,
     "metadata": {},
     "output_type": "execute_result"
    }
   ],
   "source": [
    "testPred.shape"
   ]
  },
  {
   "cell_type": "code",
   "execution_count": 67,
   "metadata": {},
   "outputs": [
    {
     "data": {
      "text/plain": [
       "array([[0.01544402],\n",
       "       [0.02702703],\n",
       "       [0.05405405],\n",
       "       [0.04826255],\n",
       "       [0.03281853],\n",
       "       [0.05984556],\n",
       "       [0.08494208],\n",
       "       [0.08494208],\n",
       "       [0.06177606],\n",
       "       [0.02895753],\n",
       "       [0.        ],\n",
       "       [0.02702703],\n",
       "       [0.02123552],\n",
       "       [0.04247104],\n",
       "       [0.07142857],\n",
       "       [0.05984556],\n",
       "       [0.04054054],\n",
       "       [0.08687259],\n",
       "       [0.12741313],\n",
       "       [0.12741313],\n",
       "       [0.1042471 ],\n",
       "       [0.05598456],\n",
       "       [0.01930502],\n",
       "       [0.06949807],\n",
       "       [0.07915058],\n",
       "       [0.08880309],\n",
       "       [0.14285714],\n",
       "       [0.11389961],\n",
       "       [0.13127413],\n",
       "       [0.14285714],\n",
       "       [0.18339768],\n",
       "       [0.18339768],\n",
       "       [0.15444015],\n",
       "       [0.11196911],\n",
       "       [0.08108108],\n",
       "       [0.11969112],\n",
       "       [0.12934363],\n",
       "       [0.14671815],\n",
       "       [0.17181467],\n",
       "       [0.14864865],\n",
       "       [0.15250965],\n",
       "       [0.22007722],\n",
       "       [0.24324324],\n",
       "       [0.26640927],\n",
       "       [0.2027027 ],\n",
       "       [0.16795367],\n",
       "       [0.13127413],\n",
       "       [0.17374517],\n",
       "       [0.17760618],\n",
       "       [0.17760618],\n",
       "       [0.25482625],\n",
       "       [0.25289575],\n",
       "       [0.24131274],\n",
       "       [0.26833977],\n",
       "       [0.30888031],\n",
       "       [0.32432432],\n",
       "       [0.25675676],\n",
       "       [0.20656371],\n",
       "       [0.14671815],\n",
       "       [0.18725869],\n",
       "       [0.19305019],\n",
       "       [0.16216216],\n",
       "       [0.25289575],\n",
       "       [0.23745174],\n",
       "       [0.25096525],\n",
       "       [0.30888031],\n",
       "       [0.38223938],\n",
       "       [0.36486486],\n",
       "       [0.2992278 ],\n",
       "       [0.24131274],\n",
       "       [0.19111969],\n",
       "       [0.24131274],\n",
       "       [0.26640927],\n",
       "       [0.24903475],\n",
       "       [0.31467181],\n",
       "       [0.31853282],\n",
       "       [0.32046332],\n",
       "       [0.40733591],\n",
       "       [0.5019305 ],\n",
       "       [0.46911197],\n",
       "       [0.4015444 ],\n",
       "       [0.32818533],\n",
       "       [0.25675676],\n",
       "       [0.33590734],\n",
       "       [0.34749035],\n",
       "       [0.33397683],\n",
       "       [0.41119691],\n",
       "       [0.4034749 ],\n",
       "       [0.41312741],\n",
       "       [0.52123552],\n",
       "       [0.5965251 ],\n",
       "       [0.58108108],\n",
       "       [0.48455598],\n",
       "       [0.38996139],\n",
       "       [0.32239382],\n",
       "       [0.38996139],\n",
       "       [0.40733591],\n",
       "       [0.38030888],\n",
       "       [0.48648649],\n",
       "       [0.47104247],\n",
       "       [0.48455598],\n",
       "       [0.61389961],\n",
       "       [0.6969112 ],\n",
       "       [0.7007722 ],\n",
       "       [0.57915058],\n",
       "       [0.46911197],\n",
       "       [0.38803089],\n",
       "       [0.44787645],\n",
       "       [0.45559846],\n",
       "       [0.41312741],\n",
       "       [0.4980695 ],\n",
       "       [0.47104247],\n",
       "       [0.5       ],\n",
       "       [0.63899614],\n",
       "       [0.74710425],\n",
       "       [0.77413127],\n",
       "       [0.57915058],\n",
       "       [0.49227799],\n",
       "       [0.3976834 ],\n",
       "       [0.44980695],\n",
       "       [0.49420849],\n",
       "       [0.45945946],\n",
       "       [0.58301158],\n",
       "       [0.56370656],\n",
       "       [0.61003861],\n",
       "       [0.71042471],\n",
       "       [0.85714286],\n",
       "       [0.87837838],\n",
       "       [0.69305019],\n",
       "       [0.58494208],\n",
       "       [0.4980695 ],\n",
       "       [0.58108108],\n",
       "       [0.6042471 ],\n",
       "       [0.55405405],\n",
       "       [0.60810811],\n",
       "       [0.68918919],\n",
       "       [0.71042471],\n",
       "       [0.83204633],\n",
       "       [1.        ],\n",
       "       [0.96911197],\n",
       "       [0.77992278],\n",
       "       [0.68918919],\n",
       "       [0.55212355],\n",
       "       [0.63320463]])"
      ]
     },
     "execution_count": 67,
     "metadata": {},
     "output_type": "execute_result"
    }
   ],
   "source": []
  }
 ],
 "metadata": {
  "interpreter": {
   "hash": "d80f053a928aac97652572aba9b2a28da264fb23761de3bb2872517e77e8dfd3"
  },
  "kernelspec": {
   "display_name": "Python 3.8.8 ('base')",
   "language": "python",
   "name": "python3"
  },
  "language_info": {
   "codemirror_mode": {
    "name": "ipython",
    "version": 3
   },
   "file_extension": ".py",
   "mimetype": "text/x-python",
   "name": "python",
   "nbconvert_exporter": "python",
   "pygments_lexer": "ipython3",
   "version": "3.8.8"
  },
  "orig_nbformat": 4
 },
 "nbformat": 4,
 "nbformat_minor": 2
}
